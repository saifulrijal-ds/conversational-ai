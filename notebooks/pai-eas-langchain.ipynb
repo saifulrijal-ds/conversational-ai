{
 "cells": [
  {
   "cell_type": "code",
   "execution_count": 1,
   "metadata": {},
   "outputs": [
    {
     "data": {
      "text/plain": [
       "True"
      ]
     },
     "execution_count": 1,
     "metadata": {},
     "output_type": "execute_result"
    }
   ],
   "source": [
    "from dotenv import load_dotenv\n",
    "load_dotenv(\"../.env\")"
   ]
  },
  {
   "cell_type": "code",
   "execution_count": 18,
   "metadata": {},
   "outputs": [],
   "source": [
    "import os\n",
    "\n",
    "from langchain_community.chat_models.pai_eas_endpoint import PaiEasChatEndpoint\n",
    "from langchain_core.prompts.chat import HumanMessage, ChatPromptTemplate, SystemMessage, MessagesPlaceholder\n",
    "from langchain_core.output_parsers import StrOutputParser\n",
    "\n",
    "chat = PaiEasChatEndpoint(\n",
    "    eas_service_url=os.environ[\"EAS_SERVICE_URL\"],\n",
    "    eas_service_token=os.environ[\"EAS_SERVICE_TOKEN\"]\n",
    ")"
   ]
  },
  {
   "cell_type": "code",
   "execution_count": 3,
   "metadata": {},
   "outputs": [
    {
     "name": "stderr",
     "output_type": "stream",
     "text": [
      "/home/ubuntu/miniconda3/envs/conversational_ai_2/lib/python3.11/site-packages/langchain_core/_api/deprecation.py:119: LangChainDeprecationWarning: The method `BaseChatModel.__call__` was deprecated in langchain-core 0.1.7 and will be removed in 0.3.0. Use invoke instead.\n",
      "  warn_deprecated(\n"
     ]
    },
    {
     "name": "stdout",
     "output_type": "stream",
     "text": [
      "output: content=\"In the gentle ebb and flow of time,\\nTwo hearts entwine, a melody divine,\\nA dance of love, a secret rhyme,\\nIn your eyes, my soul doth chime.\\n\\nYour smile, a sun that brightens my day,\\nA gentle breeze that softly does sway,\\nIn your touch, I find my way,\\nTo a love that's pure, come what may.\\n\\nUnder starry skies, we lay our dreams,\\nIn whispered vows, our hearts gleam,\\nIn your embrace, all fears it seems,\\nFade away, like morning's serene.\\n\\nWith every beat, our love does grow,\\nA tapestry woven, thread by thread,\\nThrough laughter, tears, and life's ebb and flow,\\nOur bond, an unbreakable thread.\\n\\nIn the quiet corners of our hearts,\\nA love story, a work of art,\\nA symphony played by unseen parts,\\nA testament to our eternal start.\\n\\nThrough the storms and the endless night,\\nOur love remains a beacon of light,\\nA testament to our shared plight,\\nTogether, forever, in love's resplendent sight.\\n\\nSo here's to us, a love so rare,\\nA journey we embark, without a care,\\nHand in hand, our hearts repair,\\nIn this romantic, eternal affair.\" id='run-c169c0ba-e968-4f60-924e-901ce6afac00-0'\n"
     ]
    }
   ],
   "source": [
    "output = chat([\n",
    "    HumanMessage(content=\"Write a romantic poem\")\n",
    "])\n",
    "print(\"output:\", output)"
   ]
  },
  {
   "cell_type": "code",
   "execution_count": 23,
   "metadata": {},
   "outputs": [
    {
     "data": {
      "text/plain": [
       "AIMessage(content=\"In the gentle embrace of twilight's纱,\\nWhere moonbeams dance upon the waves,\\nA tale unfolds, a verse to praise,\\nThe beauty found in love's sweet maze.\\n\\nTwo hearts entwined, like ivy's vine,\\nIn whispered secrets, they intertwine,\\nA melody that time will chime,\\nA symphony of passion divine.\\n\\nThe stars above, their light they share,\\nGuiding souls through the night so rare,\\nIn each other's eyes, they dare to stare,\\nA love that's pure, beyond compare.\\n\\nThrough storms and sunshine, they remain,\\nA steadfast bond, a love unbroken, unswain,\\nIn every touch, a tender refrain,\\nA testament to love's eternal reign.\\n\\nAs dawn breaks, their journey continues,\\nIn the glow of a new day's sunrise,\\nTheir love, a testament to the universe,\\nA testament to the magic of surprise.\\n\\nSo here's my poem, a tender sigh,\\nOf hearts entwined, under the starry sky,\\nA testament to love's sweet high,\\nA romantic tale that will never die.\", id='run-1496d693-ef4e-42bb-85dc-68f2efb0d278-0')"
      ]
     },
     "execution_count": 23,
     "metadata": {},
     "output_type": "execute_result"
    }
   ],
   "source": [
    "prompt = ChatPromptTemplate.from_messages(\n",
    "    [\n",
    "        (\"system\", \"you are an romantic assistant\"),\n",
    "        (\"human\", \"{question}\")\n",
    "    ]\n",
    ")\n",
    "\n",
    "runnable = prompt | chat\n",
    "runnable.invoke({\"question\": \"Please wrire a poem\"})"
   ]
  },
  {
   "cell_type": "code",
   "execution_count": 26,
   "metadata": {},
   "outputs": [
    {
     "name": "stdout",
     "output_type": "stream",
     "text": [
      "In the gentle embrace of twilight's纱,\n",
      "Where moonbeams dance upon the waves,\n",
      "A tale unfolds, a whispered verse,\n",
      "Of love's sweet symphony, its gentle curse.\n",
      "\n",
      "Two hearts, entwined like ivy's vine,\n",
      "In a garden of dreams, they intertwine,\n",
      "Their souls, a secret language spoken,\n",
      "In whispers, in gazes, their love unspoken.\n",
      "\n",
      "The stars, their eyes, a celestial glow,\n",
      "Guiding them through life's ebb and flow,\n",
      "Each step they take, a tender touch,\n",
      "A promise of forever, beneath the dusky blush.\n",
      "\n",
      "Through storms they brave, their love a shield,\n",
      "A sanctuary in the tempest's field,\n",
      "In the quiet corners of their hearts,\n",
      "A sanctuary where their souls impart.\n",
      "\n",
      "In the soft rustle of autumn leaves,\n",
      "Their laughter echoes, like gentle grieves,\n",
      "For every joy, a shared embrace,\n",
      "In the tender dance of their embrace.\n",
      "\n",
      "As time's river gently flows,\n",
      "Their love, a steadfast, unyielding rose,\n",
      "Bloomed from the seeds of passion's fire,\n",
      "A testament to their enduring desire.\n",
      "\n",
      "So let the night sing their lullaby,\n",
      "Under the watchful, starry sky,\n",
      "For in this realm of moon and light,\n",
      "Their love, a poem, forever bright.|"
     ]
    }
   ],
   "source": [
    "chunks = []\n",
    "for chunk in runnable.stream(\"Please write a poem\"):\n",
    "    chunks.append(chunk)\n",
    "    print(chunk.content, end='|', flush=True)"
   ]
  },
  {
   "cell_type": "markdown",
   "metadata": {},
   "source": [
    "> Not yet successful for PAI EAS stream output"
   ]
  },
  {
   "cell_type": "markdown",
   "metadata": {},
   "source": []
  }
 ],
 "metadata": {
  "kernelspec": {
   "display_name": "conversational_ai_2",
   "language": "python",
   "name": "python3"
  },
  "language_info": {
   "codemirror_mode": {
    "name": "ipython",
    "version": 3
   },
   "file_extension": ".py",
   "mimetype": "text/x-python",
   "name": "python",
   "nbconvert_exporter": "python",
   "pygments_lexer": "ipython3",
   "version": "3.11.9"
  }
 },
 "nbformat": 4,
 "nbformat_minor": 2
}
